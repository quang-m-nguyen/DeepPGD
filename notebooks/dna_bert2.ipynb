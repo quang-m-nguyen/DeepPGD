{
  "nbformat": 4,
  "nbformat_minor": 0,
  "metadata": {
    "colab": {
      "provenance": [],
      "private_outputs": true,
      "authorship_tag": "ABX9TyMex4HT3WqNW4+sFt6PiJ7a",
      "include_colab_link": true
    },
    "kernelspec": {
      "name": "python3",
      "display_name": "Python 3"
    },
    "language_info": {
      "name": "python"
    }
  },
  "cells": [
    {
      "cell_type": "markdown",
      "metadata": {
        "id": "view-in-github",
        "colab_type": "text"
      },
      "source": [
        "<a href=\"https://colab.research.google.com/github/quang-m-nguyen/DeepPGD/blob/main/dna_bert2.ipynb\" target=\"_parent\"><img src=\"https://colab.research.google.com/assets/colab-badge.svg\" alt=\"Open In Colab\"/></a>"
      ]
    },
    {
      "cell_type": "code",
      "source": [
        "from google.colab import drive\n",
        "drive.mount('/content/drive')"
      ],
      "metadata": {
        "id": "zfbPHdst1iQx"
      },
      "execution_count": null,
      "outputs": []
    },
    {
      "cell_type": "code",
      "execution_count": null,
      "metadata": {
        "id": "Acn8yWQzzMi8"
      },
      "outputs": [],
      "source": [
        "\n",
        "!pip install einops\n",
        "\n",
        "from transformers.models.bert.configuration_bert import BertConfig\n",
        "import torch\n",
        "from transformers import AutoTokenizer, AutoModel\n",
        "\n",
        "config = BertConfig.from_pretrained(\"zhihan1996/DNABERT-2-117M\")\n",
        "model = AutoModel.from_pretrained(\"zhihan1996/DNABERT-2-117M\", trust_remote_code=True, config=config)\n",
        "tokenizer = AutoTokenizer.from_pretrained(\"zhihan1996/DNABERT-2-117M\", trust_remote_code=True)"
      ]
    },
    {
      "cell_type": "code",
      "source": [
        "def get_embedding(dna):\n",
        "  inputs = tokenizer(dna, return_tensors = 'pt')[\"input_ids\"]\n",
        "  hidden_states = model(inputs)[0] # [1, sequence_length, 768]\n",
        "  embedding_mean = torch.mean(hidden_states[0], dim=0)\n",
        "  return embedding_mean\n",
        "\n",
        "dna = \"ACGTAGCATCGGATCTATCTATCGACACTTGGTTATCGATCTACGAGCATCTCGTTAGC\"\n",
        "embedding = get_embedding(dna)\n",
        "print(len(embedding))"
      ],
      "metadata": {
        "id": "MCDQimSazayp"
      },
      "execution_count": null,
      "outputs": []
    },
    {
      "cell_type": "code",
      "source": [
        "import pandas as pd\n",
        "\n",
        "df = pd.read_csv('/content/drive/MyDrive/deepPGD/4mC/4mC_C.equisetifolia/train.tsv', delimiter='\\t')\n",
        "df_limited = df.head(5)\n",
        "display(df_limited)"
      ],
      "metadata": {
        "id": "9HJIPqBC0k80"
      },
      "execution_count": null,
      "outputs": []
    },
    {
      "cell_type": "code",
      "source": [
        "import pickle\n",
        "import os\n",
        "import pandas as pd\n",
        "\n",
        "def process_tsv_and_save_embeddings(tsv_file_path):\n",
        "    # Read the TSV file\n",
        "    df = pd.read_csv(tsv_file_path, delimiter='\\t')\n",
        "    embeddings_data = []\n",
        "    count = 0\n",
        "\n",
        "    # Process each DNA sequence\n",
        "    for index, row in df.iterrows():\n",
        "        dna = row['text']\n",
        "        embedding = get_embedding(dna)\n",
        "        embeddings_data.append({'dna': dna, 'embedding': embedding})\n",
        "        count += 1\n",
        "        print(f\"Finished processing DNA sequence {count}: {dna}, embedding shape: {embedding.shape}\")\n",
        "\n",
        "    # Determine the output file path\n",
        "    tsv_dir = os.path.dirname(tsv_file_path)\n",
        "    tsv_filename = os.path.basename(tsv_file_path).replace('.tsv', '')\n",
        "    output_file_path = os.path.join(tsv_dir, f\"{tsv_filename}_embeddings_data.pkl\")\n",
        "\n",
        "    # Save the embeddings data as a pickle file\n",
        "    with open(output_file_path, 'wb') as f:\n",
        "        pickle.dump(embeddings_data, f)\n",
        "\n",
        "    print(f\"Embeddings data saved to {output_file_path}\")\n",
        "\n",
        "# Example usage\n",
        "# tsv_file_path = '/content/drive/MyDrive/deepPGD/4mC/4mC_C.equisetifolia/test.tsv'\n",
        "# process_tsv_and_save_embeddings(tsv_file_path)"
      ],
      "metadata": {
        "collapsed": true,
        "id": "Ue-662fe3Q9S"
      },
      "execution_count": null,
      "outputs": []
    },
    {
      "cell_type": "code",
      "source": [
        "# List of TSV file paths to process\n",
        "tsv_file_paths = [\n",
        "    '/content/drive/MyDrive/deepPGD/4mC/4mC_F.vesca/test.tsv',\n",
        "    '/content/drive/MyDrive/deepPGD/4mC/4mC_F.vesca/train.tsv'\n",
        "\n",
        "\n",
        "\n",
        "    # '/content/drive/MyDrive/deepPGD/6mA/6mA_Xoc BLS256/test.tsv',\n",
        "    # '/content/drive/MyDrive/deepPGD/6mA/6mA_D.melanogaster/test.tsv',\n",
        "    # '/content/drive/MyDrive/deepPGD/6mA/6mA_A.thaliana/test.tsv',\n",
        "    # '/content/drive/MyDrive/deepPGD/6mA/6mA_H.sapiens/test.tsv',\n",
        "    # '/content/drive/MyDrive/deepPGD/6mA/6mA_C.elegans/test.tsv',\n",
        "    # '/content/drive/MyDrive/deepPGD/6mA/6mA_T.thermophile/test.tsv',\n",
        "    # '/content/drive/MyDrive/deepPGD/5hmC/5hmC_H.sapiens/test.tsv',\n",
        "    # '/content/drive/MyDrive/deepPGD/4mC/4mC_S.cerevisiae/test.tsv',\n",
        "    # '/content/drive/MyDrive/deepPGD/4mC/4mC_F.vesca/test.tsv',\n",
        "    # '/content/drive/MyDrive/deepPGD/4mC/4mC_C.equisetifolia/test.tsv',\n",
        "    # '/content/drive/MyDrive/deepPGD/6mA/6mA_Xoc BLS256/train.tsv',\n",
        "    # '/content/drive/MyDrive/deepPGD/6mA/6mA_D.melanogaster/train.tsv',\n",
        "    # '/content/drive/MyDrive/deepPGD/6mA/6mA_A.thaliana/train.tsv',\n",
        "    # '/content/drive/MyDrive/deepPGD/6mA/6mA_H.sapiens/train.tsv',\n",
        "    # '/content/drive/MyDrive/deepPGD/6mA/6mA_C.elegans/train.tsv',\n",
        "    # '/content/drive/MyDrive/deepPGD/6mA/6mA_T.thermophile/train.tsv',\n",
        "    # '/content/drive/MyDrive/deepPGD/5hmC/5hmC_H.sapiens/train.tsv',\n",
        "    # '/content/drive/MyDrive/deepPGD/4mC/4mC_S.cerevisiae/train.tsv',\n",
        "    # '/content/drive/MyDrive/deepPGD/4mC/4mC_F.vesca/train.tsv',\n",
        "    # '/content/drive/MyDrive/deepPGD/4mC/4mC_C.equisetifolia/train.tsv'\n",
        "]\n",
        "\n",
        "# Loop through each file path and process it\n",
        "for tsv_file_path in tsv_file_paths:\n",
        "    process_tsv_and_save_embeddings(tsv_file_path)"
      ],
      "metadata": {
        "id": "LDUxxuZq9ACb"
      },
      "execution_count": null,
      "outputs": []
    },
    {
      "cell_type": "code",
      "source": [
        "import pickle\n",
        "\n",
        "def read_embeddings_data(pkl_file_path, num_rows=1):\n",
        "    with open(pkl_file_path, 'rb') as f:\n",
        "        embeddings_data = pickle.load(f)\n",
        "\n",
        "    limited_data = embeddings_data[:num_rows]\n",
        "    for item in limited_data:\n",
        "        print(f\"DNA: {item['dna']}, Embedding shape: {item['embedding'].shape}\")\n",
        "\n",
        "# Example usage\n",
        "pkl_file_path = '/content/drive/MyDrive/deepPGD/4mC/4mC_F.vesca/train_embeddings_data.pkl'\n",
        "read_embeddings_data(pkl_file_path)"
      ],
      "metadata": {
        "id": "jYL3waGN259R"
      },
      "execution_count": null,
      "outputs": []
    },
    {
      "cell_type": "code",
      "source": [],
      "metadata": {
        "id": "Q_IxZBrrIvJY"
      },
      "execution_count": null,
      "outputs": []
    }
  ]
}